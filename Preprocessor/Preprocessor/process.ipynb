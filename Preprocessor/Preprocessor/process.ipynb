{
 "cells": [
  {
   "cell_type": "code",
   "execution_count": 12,
   "metadata": {},
   "outputs": [],
   "source": [
    "import pandas as pd\n",
    "import numpy as np\n",
    "import glob\n",
    "import os"
   ]
  },
  {
   "cell_type": "code",
   "execution_count": 10,
   "metadata": {},
   "outputs": [
    {
     "name": "stdout",
     "output_type": "stream",
     "text": [
      "['./csv_data/1_identity_test.csv', './csv_data/1_identity_train.csv', './csv_data/2_once_test.csv', './csv_data/2_once_train.csv', './csv_data/3_ask_know_test.csv', './csv_data/3_ask_know_train.csv', './csv_data/4_ask_today_test.csv', './csv_data/4_ask_today_train.csv', './csv_data/5_twice_test.csv', './csv_data/5_twice_train.csv', './csv_data/6_request_test.csv', './csv_data/6_request_train.csv', './csv_data/7_ask_tomorrow_test.csv', './csv_data/7_ask_tomorrow_train.csv']\n"
     ]
    }
   ],
   "source": [
    "csv_datadir_list = glob.glob(\"./csv_data/\"+\"*.csv\")\n",
    "csv_datadir_list = [i.replace(\"\\\\\", \"/\") for i in csv_datadir_list]\n",
    "print(csv_datadir_list)"
   ]
  },
  {
   "cell_type": "code",
   "execution_count": 48,
   "metadata": {},
   "outputs": [],
   "source": [
    "for num,csv_datadir in enumerate(csv_datadir_list,0):\n",
    "    csv_data = pd.read_csv(csv_datadir,index_col=None,header=0)\n",
    "    #去除缺失数据\n",
    "    not_null1_idx = pd.notnull(csv_data[\"msg_del_dup\"]).values.astype(\"bool\")\n",
    "    not_null2_idx = pd.notnull(csv_data[\"type_combine\"]).values.astype(\"bool\")\n",
    "    not_null_idx = not_null1_idx&not_null2_idx\n",
    "    need_data = csv_data.loc[not_null_idx,:]\n",
    "    msgs = need_data[\"msg_del_dup\"].values\n",
    "    labels = need_data[\"type_combine\"].values\n",
    "    start_idx = (int(csv_datadir.split(\"/\")[-1][0])-1)*3\n",
    "    labels[labels==\"yes\"] = start_idx\n",
    "    labels[labels==\"no\"] = start_idx+1\n",
    "    if \"deny_money\" in labels:\n",
    "        labels[labels==\"deny_money\"] = start_idx+1\n",
    "    labels[labels==\"invalid\"] = start_idx+2\n",
    "    if \"train\" in csv_datadir:\n",
    "        with open(\"./txt_data/train.txt\",\"a\") as f:\n",
    "            for i in range(len(msgs)):\n",
    "                msg = msgs[i]\n",
    "                if \";\" in msg:\n",
    "                    msg = msg.replace(\";\",\"\")\n",
    "                f.write(msg)\n",
    "                f.write(\"\\t\")\n",
    "                f.write(str(labels[i]))\n",
    "                f.write(\"\\n\")\n",
    "                \n",
    "    elif \"test\" in csv_datadir:\n",
    "         with open(\"./txt_data/dev.txt\",\"a\") as f:\n",
    "            for i in range(len(msgs)):\n",
    "                msg = msgs[i]\n",
    "                if \";\" in msg:\n",
    "                    msg = msg.replace(\";\",\"\")\n",
    "                f.write(msg)\n",
    "                f.write(\"\\t\")\n",
    "                f.write(str(labels[i]))\n",
    "                f.write(\"\\n\")\n",
    "    else:\n",
    "        print(\"error name\")\n",
    "        raise NameError"
   ]
  },
  {
   "cell_type": "code",
   "execution_count": null,
   "metadata": {},
   "outputs": [],
   "source": []
  }
 ],
 "metadata": {
  "kernelspec": {
   "display_name": "Python 3",
   "language": "python",
   "name": "python3"
  },
  "language_info": {
   "codemirror_mode": {
    "name": "ipython",
    "version": 3
   },
   "file_extension": ".py",
   "mimetype": "text/x-python",
   "name": "python",
   "nbconvert_exporter": "python",
   "pygments_lexer": "ipython3",
   "version": "3.7.6"
  }
 },
 "nbformat": 4,
 "nbformat_minor": 4
}
